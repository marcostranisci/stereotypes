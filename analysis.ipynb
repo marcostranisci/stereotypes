{
 "cells": [
  {
   "cell_type": "markdown",
   "id": "96e1ab93",
   "metadata": {},
   "source": [
    "# Corpus Analysis"
   ]
  },
  {
   "cell_type": "code",
   "execution_count": 1,
   "id": "b5afd3d8",
   "metadata": {},
   "outputs": [],
   "source": [
    "import pandas as pd\n",
    "import numpy as np\n",
    "\n",
    "import seaborn as sns\n",
    "import matplotlib.pyplot as plt\n",
    "from collections import defaultdict\n",
    "import textwrap\n"
   ]
  },
  {
   "cell_type": "code",
   "execution_count": 2,
   "id": "66d0310c",
   "metadata": {},
   "outputs": [
    {
     "data": {
      "text/html": [
       "<div>\n",
       "<style scoped>\n",
       "    .dataframe tbody tr th:only-of-type {\n",
       "        vertical-align: middle;\n",
       "    }\n",
       "\n",
       "    .dataframe tbody tr th {\n",
       "        vertical-align: top;\n",
       "    }\n",
       "\n",
       "    .dataframe thead th {\n",
       "        text-align: right;\n",
       "    }\n",
       "</style>\n",
       "<table border=\"1\" class=\"dataframe\">\n",
       "  <thead>\n",
       "    <tr style=\"text-align: right;\">\n",
       "      <th></th>\n",
       "      <th>id</th>\n",
       "      <th>annotatore</th>\n",
       "      <th>tweet</th>\n",
       "      <th>chunk</th>\n",
       "      <th>annotazione</th>\n",
       "      <th>annotazioni_parsate</th>\n",
       "      <th>cluster_10_marem</th>\n",
       "      <th>cluster_5_marem</th>\n",
       "      <th>cluster_10_nome_marem</th>\n",
       "      <th>cluster_5_nome_marem</th>\n",
       "      <th>...</th>\n",
       "      <th>stereotype</th>\n",
       "      <th>intensity</th>\n",
       "      <th>offensiveness</th>\n",
       "      <th>aggressiveness</th>\n",
       "      <th>irony</th>\n",
       "      <th>sarcasm</th>\n",
       "      <th>agent</th>\n",
       "      <th>patient</th>\n",
       "      <th>cluster_10_nome_ale</th>\n",
       "      <th>cluster_5_nome_ale</th>\n",
       "    </tr>\n",
       "  </thead>\n",
       "  <tbody>\n",
       "    <tr>\n",
       "      <th>0</th>\n",
       "      <td>_1039886625994694656</td>\n",
       "      <td>annotatore_05</td>\n",
       "      <td>L'immigrato che non piace alla sinistra razzis...</td>\n",
       "      <td>migranti che non lavorano ma delinquono</td>\n",
       "      <td>i migranti non vogliono lavorare</td>\n",
       "      <td>non lavorare</td>\n",
       "      <td>5.0</td>\n",
       "      <td>2.0</td>\n",
       "      <td>SonoPigri</td>\n",
       "      <td>SonoSfruttatori</td>\n",
       "      <td>...</td>\n",
       "      <td>1.0</td>\n",
       "      <td>NaN</td>\n",
       "      <td>NaN</td>\n",
       "      <td>1.0</td>\n",
       "      <td>0.0</td>\n",
       "      <td>0.0</td>\n",
       "      <td>immigrati</td>\n",
       "      <td>NaN</td>\n",
       "      <td>SonoFannulloni</td>\n",
       "      <td>FannoQuelloCheVoglionoSenzaContribuire</td>\n",
       "    </tr>\n",
       "    <tr>\n",
       "      <th>1</th>\n",
       "      <td>_1039886625994694656</td>\n",
       "      <td>annotatore_05</td>\n",
       "      <td>L'immigrato che non piace alla sinistra razzis...</td>\n",
       "      <td>migranti che non lavorano ma delinquono</td>\n",
       "      <td>i migranti sono criminali</td>\n",
       "      <td>sono criminali</td>\n",
       "      <td>1.0</td>\n",
       "      <td>1.0</td>\n",
       "      <td>SonoPericolosi</td>\n",
       "      <td>SonoMinaccia</td>\n",
       "      <td>...</td>\n",
       "      <td>1.0</td>\n",
       "      <td>NaN</td>\n",
       "      <td>NaN</td>\n",
       "      <td>1.0</td>\n",
       "      <td>0.0</td>\n",
       "      <td>0.0</td>\n",
       "      <td>immigrati</td>\n",
       "      <td>NaN</td>\n",
       "      <td>SonoCriminali</td>\n",
       "      <td>SonoPericolosi</td>\n",
       "    </tr>\n",
       "    <tr>\n",
       "      <th>2</th>\n",
       "      <td>_1039886625994694656</td>\n",
       "      <td>annotatore_02</td>\n",
       "      <td>L'immigrato che non piace alla sinistra razzis...</td>\n",
       "      <td>migranti che non lavorano</td>\n",
       "      <td>gli immigrati non lavorano</td>\n",
       "      <td>non lavorano</td>\n",
       "      <td>5.0</td>\n",
       "      <td>2.0</td>\n",
       "      <td>SonoPigri</td>\n",
       "      <td>SonoSfruttatori</td>\n",
       "      <td>...</td>\n",
       "      <td>1.0</td>\n",
       "      <td>NaN</td>\n",
       "      <td>NaN</td>\n",
       "      <td>1.0</td>\n",
       "      <td>0.0</td>\n",
       "      <td>0.0</td>\n",
       "      <td>immigrati</td>\n",
       "      <td>NaN</td>\n",
       "      <td>SonoFannulloni</td>\n",
       "      <td>FannoQuelloCheVoglionoSenzaContribuire</td>\n",
       "    </tr>\n",
       "    <tr>\n",
       "      <th>3</th>\n",
       "      <td>_1039886625994694656</td>\n",
       "      <td>annotatore_02</td>\n",
       "      <td>L'immigrato che non piace alla sinistra razzis...</td>\n",
       "      <td>migranti delinquono</td>\n",
       "      <td>gli immigrati sono delinquenti</td>\n",
       "      <td>sono delinquenti</td>\n",
       "      <td>1.0</td>\n",
       "      <td>1.0</td>\n",
       "      <td>SonoPericolosi</td>\n",
       "      <td>SonoMinaccia</td>\n",
       "      <td>...</td>\n",
       "      <td>1.0</td>\n",
       "      <td>NaN</td>\n",
       "      <td>NaN</td>\n",
       "      <td>1.0</td>\n",
       "      <td>0.0</td>\n",
       "      <td>0.0</td>\n",
       "      <td>immigrati</td>\n",
       "      <td>NaN</td>\n",
       "      <td>SonoCriminali</td>\n",
       "      <td>SonoPericolosi</td>\n",
       "    </tr>\n",
       "    <tr>\n",
       "      <th>4</th>\n",
       "      <td>_1039910346432147456</td>\n",
       "      <td>annotatore_05</td>\n",
       "      <td>@AFoccardi @SoniaGrotto ... ma tutti i psicola...</td>\n",
       "      <td>non sanno reprimere i loro istinti</td>\n",
       "      <td>gli stranieri sono animali</td>\n",
       "      <td>sono animali</td>\n",
       "      <td>7.0</td>\n",
       "      <td>4.0</td>\n",
       "      <td>SonoSelvaggi</td>\n",
       "      <td>RovinanoItalia</td>\n",
       "      <td>...</td>\n",
       "      <td>1.0</td>\n",
       "      <td>NaN</td>\n",
       "      <td>NaN</td>\n",
       "      <td>1.0</td>\n",
       "      <td>0.0</td>\n",
       "      <td>0.0</td>\n",
       "      <td>minoranza_etnica</td>\n",
       "      <td>NaN</td>\n",
       "      <td>SonoPericolosi</td>\n",
       "      <td>SonoPericolosi</td>\n",
       "    </tr>\n",
       "    <tr>\n",
       "      <th>...</th>\n",
       "      <td>...</td>\n",
       "      <td>...</td>\n",
       "      <td>...</td>\n",
       "      <td>...</td>\n",
       "      <td>...</td>\n",
       "      <td>...</td>\n",
       "      <td>...</td>\n",
       "      <td>...</td>\n",
       "      <td>...</td>\n",
       "      <td>...</td>\n",
       "      <td>...</td>\n",
       "      <td>...</td>\n",
       "      <td>...</td>\n",
       "      <td>...</td>\n",
       "      <td>...</td>\n",
       "      <td>...</td>\n",
       "      <td>...</td>\n",
       "      <td>...</td>\n",
       "      <td>...</td>\n",
       "      <td>...</td>\n",
       "      <td>...</td>\n",
       "    </tr>\n",
       "    <tr>\n",
       "      <th>3573</th>\n",
       "      <td>_titoli-cri-297</td>\n",
       "      <td>annotatore_05</td>\n",
       "      <td>Finanzia l'invasione degli immigrati: ecco la ...</td>\n",
       "      <td>l'invasione degli immigrati</td>\n",
       "      <td>i migranti vogliono invadere l'Italia</td>\n",
       "      <td>invadere italia</td>\n",
       "      <td>4.0</td>\n",
       "      <td>2.0</td>\n",
       "      <td>SonoInvasori</td>\n",
       "      <td>SonoSfruttatori</td>\n",
       "      <td>...</td>\n",
       "      <td>1.0</td>\n",
       "      <td>NaN</td>\n",
       "      <td>NaN</td>\n",
       "      <td>0.0</td>\n",
       "      <td>0.0</td>\n",
       "      <td>0.0</td>\n",
       "      <td>immigrati</td>\n",
       "      <td>NaN</td>\n",
       "      <td>Ci_Invadono</td>\n",
       "      <td>PeggioranoLeNostreCondizioniDiVita</td>\n",
       "    </tr>\n",
       "    <tr>\n",
       "      <th>3574</th>\n",
       "      <td>_titoli-cri-297</td>\n",
       "      <td>annotatore_01</td>\n",
       "      <td>Finanzia l'invasione degli immigrati: ecco la ...</td>\n",
       "      <td>Finanzia l'invasione degli immigrati George So...</td>\n",
       "      <td>le ong favoriscono l'immigrazione</td>\n",
       "      <td>favoriscono immigrazione</td>\n",
       "      <td>10.0</td>\n",
       "      <td>5.0</td>\n",
       "      <td>SonoTutelati</td>\n",
       "      <td>SonoTutelati</td>\n",
       "      <td>...</td>\n",
       "      <td>1.0</td>\n",
       "      <td>NaN</td>\n",
       "      <td>NaN</td>\n",
       "      <td>0.0</td>\n",
       "      <td>0.0</td>\n",
       "      <td>0.0</td>\n",
       "      <td>attivisti</td>\n",
       "      <td>NaN</td>\n",
       "      <td>Ci_Invadono</td>\n",
       "      <td>PeggioranoLeNostreCondizioniDiVita</td>\n",
       "    </tr>\n",
       "    <tr>\n",
       "      <th>3575</th>\n",
       "      <td>_titoli-cri-297</td>\n",
       "      <td>annotatore_01</td>\n",
       "      <td>Finanzia l'invasione degli immigrati: ecco la ...</td>\n",
       "      <td>Finanzia l'invasione degli immigrati George So...</td>\n",
       "      <td>gli immigrati sono invasori</td>\n",
       "      <td>sono invasori</td>\n",
       "      <td>4.0</td>\n",
       "      <td>2.0</td>\n",
       "      <td>SonoInvasori</td>\n",
       "      <td>SonoSfruttatori</td>\n",
       "      <td>...</td>\n",
       "      <td>1.0</td>\n",
       "      <td>NaN</td>\n",
       "      <td>NaN</td>\n",
       "      <td>0.0</td>\n",
       "      <td>0.0</td>\n",
       "      <td>0.0</td>\n",
       "      <td>immigrati</td>\n",
       "      <td>NaN</td>\n",
       "      <td>Ci_Invadono</td>\n",
       "      <td>PeggioranoLeNostreCondizioniDiVita</td>\n",
       "    </tr>\n",
       "    <tr>\n",
       "      <th>3576</th>\n",
       "      <td>_titoli-cri-554</td>\n",
       "      <td>annotatore_05</td>\n",
       "      <td>Immigrazione, Viminale: 500 euro a testa ai 13...</td>\n",
       "      <td>500 euro a testa ai 13mila profughi per farli ...</td>\n",
       "      <td>i migranti sono parassiti</td>\n",
       "      <td>sono parassiti</td>\n",
       "      <td>2.0</td>\n",
       "      <td>2.0</td>\n",
       "      <td>SonoParassiti</td>\n",
       "      <td>SonoSfruttatori</td>\n",
       "      <td>...</td>\n",
       "      <td>1.0</td>\n",
       "      <td>NaN</td>\n",
       "      <td>NaN</td>\n",
       "      <td>0.0</td>\n",
       "      <td>0.0</td>\n",
       "      <td>0.0</td>\n",
       "      <td>NaN</td>\n",
       "      <td>immigrati</td>\n",
       "      <td>Ci_Invadono</td>\n",
       "      <td>PeggioranoLeNostreCondizioniDiVita</td>\n",
       "    </tr>\n",
       "    <tr>\n",
       "      <th>3577</th>\n",
       "      <td>_titoli-cri-554</td>\n",
       "      <td>annotatore_01</td>\n",
       "      <td>Immigrazione, Viminale: 500 euro a testa ai 13...</td>\n",
       "      <td>500 euro a testa ai 13mila profughi per farli ...</td>\n",
       "      <td>i migranti sono un fardello</td>\n",
       "      <td>sono fardello</td>\n",
       "      <td>2.0</td>\n",
       "      <td>2.0</td>\n",
       "      <td>SonoParassiti</td>\n",
       "      <td>SonoSfruttatori</td>\n",
       "      <td>...</td>\n",
       "      <td>1.0</td>\n",
       "      <td>NaN</td>\n",
       "      <td>NaN</td>\n",
       "      <td>0.0</td>\n",
       "      <td>0.0</td>\n",
       "      <td>0.0</td>\n",
       "      <td>immigrati</td>\n",
       "      <td>NaN</td>\n",
       "      <td>PesanoSulleNostreSpalle</td>\n",
       "      <td>PeggioranoLeNostreCondizioniDiVita</td>\n",
       "    </tr>\n",
       "  </tbody>\n",
       "</table>\n",
       "<p>3578 rows × 34 columns</p>\n",
       "</div>"
      ],
      "text/plain": [
       "                        id     annotatore  \\\n",
       "0     _1039886625994694656  annotatore_05   \n",
       "1     _1039886625994694656  annotatore_05   \n",
       "2     _1039886625994694656  annotatore_02   \n",
       "3     _1039886625994694656  annotatore_02   \n",
       "4     _1039910346432147456  annotatore_05   \n",
       "...                    ...            ...   \n",
       "3573       _titoli-cri-297  annotatore_05   \n",
       "3574       _titoli-cri-297  annotatore_01   \n",
       "3575       _titoli-cri-297  annotatore_01   \n",
       "3576       _titoli-cri-554  annotatore_05   \n",
       "3577       _titoli-cri-554  annotatore_01   \n",
       "\n",
       "                                                  tweet  \\\n",
       "0     L'immigrato che non piace alla sinistra razzis...   \n",
       "1     L'immigrato che non piace alla sinistra razzis...   \n",
       "2     L'immigrato che non piace alla sinistra razzis...   \n",
       "3     L'immigrato che non piace alla sinistra razzis...   \n",
       "4     @AFoccardi @SoniaGrotto ... ma tutti i psicola...   \n",
       "...                                                 ...   \n",
       "3573  Finanzia l'invasione degli immigrati: ecco la ...   \n",
       "3574  Finanzia l'invasione degli immigrati: ecco la ...   \n",
       "3575  Finanzia l'invasione degli immigrati: ecco la ...   \n",
       "3576  Immigrazione, Viminale: 500 euro a testa ai 13...   \n",
       "3577  Immigrazione, Viminale: 500 euro a testa ai 13...   \n",
       "\n",
       "                                                  chunk  \\\n",
       "0              migranti che non lavorano ma delinquono    \n",
       "1              migranti che non lavorano ma delinquono    \n",
       "2                             migranti che non lavorano   \n",
       "3                                   migranti delinquono   \n",
       "4                   non sanno reprimere i loro istinti    \n",
       "...                                                 ...   \n",
       "3573                       l'invasione degli immigrati    \n",
       "3574  Finanzia l'invasione degli immigrati George So...   \n",
       "3575  Finanzia l'invasione degli immigrati George So...   \n",
       "3576  500 euro a testa ai 13mila profughi per farli ...   \n",
       "3577  500 euro a testa ai 13mila profughi per farli ...   \n",
       "\n",
       "                                annotazione       annotazioni_parsate  \\\n",
       "0          i migranti non vogliono lavorare              non lavorare   \n",
       "1                i migranti sono criminali             sono criminali   \n",
       "2                gli immigrati non lavorano              non lavorano   \n",
       "3            gli immigrati sono delinquenti          sono delinquenti   \n",
       "4               gli stranieri sono animali               sono animali   \n",
       "...                                     ...                       ...   \n",
       "3573  i migranti vogliono invadere l'Italia           invadere italia   \n",
       "3574      le ong favoriscono l'immigrazione  favoriscono immigrazione   \n",
       "3575            gli immigrati sono invasori             sono invasori   \n",
       "3576              i migranti sono parassiti            sono parassiti   \n",
       "3577            i migranti sono un fardello             sono fardello   \n",
       "\n",
       "      cluster_10_marem  cluster_5_marem cluster_10_nome_marem  \\\n",
       "0                  5.0              2.0             SonoPigri   \n",
       "1                  1.0              1.0        SonoPericolosi   \n",
       "2                  5.0              2.0             SonoPigri   \n",
       "3                  1.0              1.0        SonoPericolosi   \n",
       "4                  7.0              4.0          SonoSelvaggi   \n",
       "...                ...              ...                   ...   \n",
       "3573               4.0              2.0          SonoInvasori   \n",
       "3574              10.0              5.0          SonoTutelati   \n",
       "3575               4.0              2.0          SonoInvasori   \n",
       "3576               2.0              2.0         SonoParassiti   \n",
       "3577               2.0              2.0         SonoParassiti   \n",
       "\n",
       "     cluster_5_nome_marem  ...  stereotype  intensity  offensiveness  \\\n",
       "0         SonoSfruttatori  ...         1.0        NaN            NaN   \n",
       "1            SonoMinaccia  ...         1.0        NaN            NaN   \n",
       "2         SonoSfruttatori  ...         1.0        NaN            NaN   \n",
       "3            SonoMinaccia  ...         1.0        NaN            NaN   \n",
       "4          RovinanoItalia  ...         1.0        NaN            NaN   \n",
       "...                   ...  ...         ...        ...            ...   \n",
       "3573      SonoSfruttatori  ...         1.0        NaN            NaN   \n",
       "3574         SonoTutelati  ...         1.0        NaN            NaN   \n",
       "3575      SonoSfruttatori  ...         1.0        NaN            NaN   \n",
       "3576      SonoSfruttatori  ...         1.0        NaN            NaN   \n",
       "3577      SonoSfruttatori  ...         1.0        NaN            NaN   \n",
       "\n",
       "     aggressiveness irony sarcasm             agent    patient  \\\n",
       "0               1.0   0.0     0.0         immigrati        NaN   \n",
       "1               1.0   0.0     0.0         immigrati        NaN   \n",
       "2               1.0   0.0     0.0         immigrati        NaN   \n",
       "3               1.0   0.0     0.0         immigrati        NaN   \n",
       "4               1.0   0.0     0.0  minoranza_etnica        NaN   \n",
       "...             ...   ...     ...               ...        ...   \n",
       "3573            0.0   0.0     0.0         immigrati        NaN   \n",
       "3574            0.0   0.0     0.0         attivisti        NaN   \n",
       "3575            0.0   0.0     0.0         immigrati        NaN   \n",
       "3576            0.0   0.0     0.0               NaN  immigrati   \n",
       "3577            0.0   0.0     0.0         immigrati        NaN   \n",
       "\n",
       "          cluster_10_nome_ale                      cluster_5_nome_ale  \n",
       "0              SonoFannulloni  FannoQuelloCheVoglionoSenzaContribuire  \n",
       "1               SonoCriminali                          SonoPericolosi  \n",
       "2              SonoFannulloni  FannoQuelloCheVoglionoSenzaContribuire  \n",
       "3               SonoCriminali                          SonoPericolosi  \n",
       "4              SonoPericolosi                          SonoPericolosi  \n",
       "...                       ...                                     ...  \n",
       "3573              Ci_Invadono      PeggioranoLeNostreCondizioniDiVita  \n",
       "3574              Ci_Invadono      PeggioranoLeNostreCondizioniDiVita  \n",
       "3575              Ci_Invadono      PeggioranoLeNostreCondizioniDiVita  \n",
       "3576              Ci_Invadono      PeggioranoLeNostreCondizioniDiVita  \n",
       "3577  PesanoSulleNostreSpalle      PeggioranoLeNostreCondizioniDiVita  \n",
       "\n",
       "[3578 rows x 34 columns]"
      ]
     },
     "execution_count": 2,
     "metadata": {},
     "output_type": "execute_result"
    }
   ],
   "source": [
    "df = pd.read_csv(\"./data/datasetStereotype.csv\")\n",
    "df"
   ]
  },
  {
   "cell_type": "code",
   "execution_count": 28,
   "id": "4ce73907",
   "metadata": {},
   "outputs": [
    {
     "data": {
      "text/plain": [
       "annotazione\n",
       "i rom sono ladri                                                   109\n",
       "i migranti sono parassiti                                           65\n",
       "i rom sono una categoria omogenea di individui                      42\n",
       "i migranti non sono profughi                                        35\n",
       " tutti i rom sono nomadi                                            33\n",
       "                                                                  ... \n",
       "gli immigrati vengono in italia per delinquere                       1\n",
       "l'immigrazione è una piaga                                           1\n",
       "gli immigrati sono degli stupratori assassini                        1\n",
       "gli immigrati non possono essere integrati nella nostra società      1\n",
       "i rom vanno puniti severamente                                       1\n",
       "Name: count, Length: 1547, dtype: int64"
      ]
     },
     "execution_count": 28,
     "metadata": {},
     "output_type": "execute_result"
    }
   ],
   "source": [
    "df[\"annotazione\"].value_counts()"
   ]
  },
  {
   "cell_type": "markdown",
   "id": "d655ac0e",
   "metadata": {},
   "source": [
    "## General statistics"
   ]
  },
  {
   "cell_type": "code",
   "execution_count": 3,
   "id": "729eb2b9",
   "metadata": {},
   "outputs": [
    {
     "name": "stdout",
     "output_type": "stream",
     "text": [
      "Number of annotations: (3578, 34)\n",
      "Number of texts: 1022\n",
      "\n",
      "Number of rationales:  1547\n",
      "\n",
      "Number of annotations per annotator\n",
      "annotatore\n",
      "annotatore_05    1792\n",
      "annotatore_01    1367\n",
      "annotatore_04     178\n",
      "annotatore_03     129\n",
      "annotatore_02     112\n",
      "Name: count, dtype: int64\n",
      "\n",
      "Number of texts annotated by each annotator\n"
     ]
    },
    {
     "data": {
      "text/plain": [
       "annotatore\n",
       "annotatore_01     747\n",
       "annotatore_02      75\n",
       "annotatore_03     100\n",
       "annotatore_04      94\n",
       "annotatore_05    1001\n",
       "dtype: int64"
      ]
     },
     "execution_count": 3,
     "metadata": {},
     "output_type": "execute_result"
    }
   ],
   "source": [
    "# Information about the dataset\n",
    "print(\"Number of annotations:\", df.shape)\n",
    "print(\"Number of texts:\",len(set(df[\"id\"].tolist())))\n",
    "print()\n",
    "print(\"Number of rationales: \", len(set(df[\"annotazione\"].tolist())))\n",
    "print()\n",
    "print(\"Number of annotations per annotator\")\n",
    "print(df[\"annotatore\"].value_counts())\n",
    "print()\n",
    "\n",
    "print(\"Number of texts annotated by each annotator\")\n",
    "texts_per_annotator = df.groupby([\"annotatore\", \"id\"]).size().reset_index(name='text_count')\n",
    "annotator_summary = texts_per_annotator.groupby(\"annotatore\").size()\n",
    "annotator_summary"
   ]
  },
  {
   "cell_type": "code",
   "execution_count": 4,
   "id": "a5d1db11",
   "metadata": {},
   "outputs": [
    {
     "name": "stdout",
     "output_type": "stream",
     "text": [
      "Number of IDs that occur exactly once: 27\n"
     ]
    }
   ],
   "source": [
    "df_no_dup = df.drop_duplicates(subset=[\"id\", \"annotatore\"])\n",
    "\n",
    "id_counts = df_no_dup[\"id\"].value_counts()\n",
    "num_ids_with_one_occurrence = (id_counts == 1).sum()\n",
    "print(\"Number of IDs that occur exactly once:\", num_ids_with_one_occurrence)"
   ]
  },
  {
   "cell_type": "code",
   "execution_count": 5,
   "id": "4fee8621",
   "metadata": {},
   "outputs": [
    {
     "name": "stdout",
     "output_type": "stream",
     "text": [
      "Mean on annotations for (annotatore,id) 1.773921665840357\n"
     ]
    },
    {
     "data": {
      "text/plain": [
       "annotatore\n",
       "annotatore_01    1.829987\n",
       "annotatore_02    1.493333\n",
       "annotatore_03    1.290000\n",
       "annotatore_04    1.893617\n",
       "annotatore_05    1.790210\n",
       "Name: annotazione, dtype: float64"
      ]
     },
     "execution_count": 5,
     "metadata": {},
     "output_type": "execute_result"
    }
   ],
   "source": [
    "count_ann_text = df.groupby([\"annotatore\", \"id\"])[\"annotazione\"].size()\n",
    "print(\"Mean on annotations for (annotatore,id)\", count_ann_text.mean())\n",
    "\n",
    "count_ann_text.groupby(\"annotatore\").mean()\n",
    "# count_ann_text = df.groupby([\"annotatore\", \"id\"]).agg(count=(\"annotazione\", \"count\"))"
   ]
  },
  {
   "cell_type": "markdown",
   "id": "ee2b7dc2",
   "metadata": {},
   "source": [
    "## Agents and patients"
   ]
  },
  {
   "cell_type": "code",
   "execution_count": 6,
   "id": "10417a5d",
   "metadata": {},
   "outputs": [
    {
     "name": "stdout",
     "output_type": "stream",
     "text": [
      "AGENT and PATIENT\n",
      "agent\n",
      "immigrati           1293\n",
      "rom_sinti            893\n",
      "mussulmani           382\n",
      "minoranza_etnica     212\n",
      "sinistra              88\n",
      "italiani              34\n",
      "attivisti             33\n",
      "istituzioni           30\n",
      "giornalisti           19\n",
      "persone               12\n",
      "bambini               10\n",
      "cristiani              8\n",
      "terroristi             7\n",
      "donne                  7\n",
      "uomini                 4\n",
      "ebrei                  3\n",
      "mafiosi                3\n",
      "figli                  2\n",
      "altri_stati            2\n",
      "destra                 2\n",
      "giudici                2\n",
      "società                1\n",
      "scuola                 1\n",
      "calciatori             1\n",
      "europa                 1\n",
      "attori                 1\n",
      "aziende                1\n",
      "imprenditori           1\n",
      "professionisti         1\n",
      "Name: count, dtype: int64\n",
      "\n",
      "patient\n",
      "immigrati           217\n",
      "rom_sinti            32\n",
      "mussulmani           27\n",
      "minoranza_etnica      7\n",
      "donne                 6\n",
      "italiani              4\n",
      "persone               2\n",
      "barboni               1\n",
      "uomini                1\n",
      "lgbtq                 1\n",
      "criminali             1\n",
      "Name: count, dtype: int64\n"
     ]
    }
   ],
   "source": [
    "print(\"AGENT and PATIENT\")\n",
    "\n",
    "print(df[\"agent\"].value_counts())\n",
    "print()\n",
    "print(df[\"patient\"].value_counts())"
   ]
  },
  {
   "cell_type": "code",
   "execution_count": 30,
   "id": "28bd9c7a",
   "metadata": {},
   "outputs": [
    {
     "name": "stdout",
     "output_type": "stream",
     "text": [
      "Number of agents:  29\n",
      "Mumber of patient:  11\n"
     ]
    }
   ],
   "source": [
    "print(\"Number of agents: \", len(df[\"agent\"].dropna().drop_duplicates().tolist()))\n",
    "print(\"Mumber of patient: \", len(df[\"patient\"].dropna().drop_duplicates().tolist()))"
   ]
  },
  {
   "cell_type": "code",
   "execution_count": null,
   "id": "8643f570",
   "metadata": {},
   "outputs": [
    {
     "name": "stdout",
     "output_type": "stream",
     "text": [
      "{'annotatore_01': {'count_agent': 1202, 'count_patient': 145}, 'annotatore_02': {'count_agent': 90, 'count_patient': 7}, 'annotatore_03': {'count_agent': 110, 'count_patient': 12}, 'annotatore_04': {'count_agent': 157, 'count_patient': 10}, 'annotatore_05': {'count_agent': 1495, 'count_patient': 125}}\n"
     ]
    }
   ],
   "source": [
    "list_annotators = [\"annotatore_01\", \"annotatore_02\", \"annotatore_03\", \"annotatore_04\", \"annotatore_05\"]\n",
    "dict_agent_pat = {}\n",
    "\n",
    "for a in list_annotators:\n",
    "    df_a = df[df[\"annotatore\"] == a]\n",
    "    # print(df_a.shape)\n",
    "    num_agents = len(df_a[\"agent\"].dropna().tolist())\n",
    "    num_patients = len(df_a[\"patient\"].dropna().tolist())\n",
    "    dict_agent_pat[a] = {\"count_agent\": num_agents, \"count_patient\":num_patients}\n",
    "print(dict_agent_pat)\n",
    "\n",
    "count_agent_pat = pd.DataFrame.from_dict(dict_agent_pat, orient='index').reset_index()\n",
    "count_agent_pat.rename(columns={'index': 'annotatore'}, inplace=True)\n",
    "\n",
    "agent_ann = df.groupby([\"agent\", \"annotatore\"]).size().reset_index(name='text_count')\n",
    "agent_ann = agent_ann.merge(count_agent_pat[[\"annotatore\", \"count_agent\"]], on='annotatore', how='left')\n",
    "\n",
    "agent_ann[\"percentage\"] = agent_ann[\"text_count\"] / agent_ann[\"count_agent\"]\n",
    "agent_ann[\"percentage_str\"] = (agent_ann[\"percentage\"] * 100).round(2)\n",
    "agent_ann.to_csv(\"./saved_for_analysis/agents.csv\")\n",
    "\n",
    "\n",
    "pat_ann = df.groupby([\"patient\", \"annotatore\"]).size().reset_index(name='text_count')\n",
    "pat_ann = pat_ann.merge(count_agent_pat[[\"annotatore\", \"count_patient\"]], on='annotatore', how='left')\n",
    "\n",
    "pat_ann[\"percentage\"] = pat_ann[\"text_count\"] / pat_ann[\"count_patient\"]\n",
    "pat_ann[\"percentage_str\"] = (pat_ann[\"percentage\"] * 100).round(2)\n",
    "pat_ann.to_csv(\"./saved_for_analysis/patients.csv\")"
   ]
  },
  {
   "cell_type": "code",
   "execution_count": 9,
   "id": "c2617589",
   "metadata": {},
   "outputs": [
    {
     "name": "stdout",
     "output_type": "stream",
     "text": [
      "AGENT threshold\n",
      "annotatore\n",
      "annotatore_01     4.165417\n",
      "annotatore_02     9.999000\n",
      "annotatore_03    33.333333\n",
      "annotatore_04     9.091818\n",
      "annotatore_05     6.666000\n",
      "Name: percentage_str, dtype: float64\n",
      "\n",
      "PATIENT threshold\n",
      "annotatore\n",
      "annotatore_01    16.666667\n",
      "annotatore_02    33.333333\n",
      "annotatore_03    50.000000\n",
      "annotatore_04    20.000000\n",
      "annotatore_05    14.285714\n",
      "Name: percentage_str, dtype: float64\n"
     ]
    }
   ],
   "source": [
    "#compute threshold\n",
    "print(\"AGENT threshold\")\n",
    "print((agent_ann.groupby(\"annotatore\")[\"percentage_str\"].mean()))\n",
    "print()\n",
    "print(\"PATIENT threshold\")\n",
    "print((pat_ann.groupby(\"annotatore\")[\"percentage_str\"].mean()))"
   ]
  },
  {
   "cell_type": "markdown",
   "id": "289f7f0d",
   "metadata": {},
   "source": [
    "## Cluster distribution"
   ]
  },
  {
   "cell_type": "markdown",
   "id": "eaa14593",
   "metadata": {},
   "source": [
    "### 10"
   ]
  },
  {
   "cell_type": "code",
   "execution_count": 92,
   "id": "be6969ba",
   "metadata": {},
   "outputs": [
    {
     "data": {
      "text/plain": [
       "(3250, 34)"
      ]
     },
     "execution_count": 92,
     "metadata": {},
     "output_type": "execute_result"
    }
   ],
   "source": [
    "# df_cluster = df.dropna(subset=[\"cluster_10_marem\"])\n",
    "# df_cluster = df_cluster[df_cluster[\"cluster_10_nome_ale\"] !='None/Doubt']\n",
    "df_cluster = df[df[\"cluster_10_nome_ale\"] !='X']\n",
    "\n",
    "df_cluster.shape"
   ]
  },
  {
   "cell_type": "code",
   "execution_count": 11,
   "id": "fee5f722",
   "metadata": {},
   "outputs": [
    {
     "name": "stdout",
     "output_type": "stream",
     "text": [
      "DISTRIBUTION OF CLUSTERS ACROSS CORPUS - 10\n",
      "\n",
      "cluster_10_nome_marem\n",
      "SonoPericolosi             892\n",
      "SonoParassiti              536\n",
      "SonoInvasori               463\n",
      "SonoTutelati               328\n",
      "SonoSelvaggi               208\n",
      "SonoEstremistiReligiosi    165\n",
      "SonoInferiori              137\n",
      "MaltrattanoDeboli          116\n",
      "PortanoDegrado             115\n",
      "SonoPigri                   73\n",
      "Name: count, dtype: int64\n",
      "\n",
      "cluster_10_nome_marco\n",
      "SonoPericolosi             651\n",
      "SonoFardello               619\n",
      "SonoDelinquenti            514\n",
      "SonoProblema               298\n",
      "SonoPrivilegiati           264\n",
      "SonoIncivili               261\n",
      "SonoEstremistiReligiosi    202\n",
      "MaltrattanoDeboli          178\n",
      "PortanoDegrado             131\n",
      "IngannanoAltri             121\n",
      "Name: count, dtype: int64\n",
      "\n",
      "cluster_10_nome_ale\n",
      "SonoCriminali                            800\n",
      "SonoPericolosi                           537\n",
      "Ci_Invadono                              458\n",
      "FannoQuelloCheVogliono/PretendonoCose    387\n",
      "SonoDiversiDaNoi                         309\n",
      "PesanoSulleNostreSpalle                  252\n",
      "None/Doubt                               159\n",
      "HannoCulturaDiversa/SonoAnimali          129\n",
      "PortanoDegrado                            92\n",
      "HannoScarsaIgiene                         65\n",
      "SonoFannulloni                            62\n",
      "Name: count, dtype: int64\n"
     ]
    }
   ],
   "source": [
    "print(\"DISTRIBUTION OF CLUSTERS ACROSS CORPUS - 10\")\n",
    "print()\n",
    "print(df_cluster[\"cluster_10_nome_marem\"].value_counts())\n",
    "print()\n",
    "print(df_cluster[\"cluster_10_nome_marco\"].value_counts())\n",
    "print()\n",
    "print(df_cluster[\"cluster_10_nome_ale\"].value_counts())"
   ]
  },
  {
   "cell_type": "code",
   "execution_count": 12,
   "id": "d7caaa91",
   "metadata": {},
   "outputs": [],
   "source": [
    "list_cl_marem = df_cluster[\"cluster_10_nome_marem\"].tolist()\n",
    "list_cl_ale = df_cluster[\"cluster_10_nome_ale\"].tolist()\n",
    "list_cl_marco = df_cluster[\"cluster_10_nome_marco\"].tolist()"
   ]
  },
  {
   "cell_type": "code",
   "execution_count": 13,
   "id": "5f2d22a7",
   "metadata": {},
   "outputs": [],
   "source": [
    "distr_10_marem = df_cluster.groupby([\"cluster_10_nome_marem\", \"annotazioni_parsate\"]).size().reset_index(name='count')\n",
    "distr_10_ale = df_cluster.groupby([\"cluster_10_nome_ale\", \"annotazioni_parsate\"]).size().reset_index(name='count')\n",
    "distr_10_marco = df_cluster.groupby([\"cluster_10_nome_marco\", \"annotazioni_parsate\"]).size().reset_index(name='count')\n",
    "\n",
    "distr_10_marem.to_csv(\"./saved_for_analysis/distr_10_marem.csv\", index=False)\n",
    "distr_10_ale.to_csv(\"./saved_for_analysis/distr_10_ale.csv\", index=False)\n",
    "distr_10_marco.to_csv(\"./saved_for_analysis/distr_10_marco.csv\", index=False)"
   ]
  },
  {
   "cell_type": "markdown",
   "id": "8b0d3dce",
   "metadata": {},
   "source": [
    "### 5"
   ]
  },
  {
   "cell_type": "code",
   "execution_count": 14,
   "id": "e9d9e567",
   "metadata": {},
   "outputs": [
    {
     "name": "stdout",
     "output_type": "stream",
     "text": [
      "DISTRIBUTION OF CLUSTERS ACROSS CORPUS - 5\n",
      "\n",
      "cluster_5_nome_marem\n",
      "SonoSfruttatori            1072\n",
      "SonoMinaccia               1008\n",
      "RovinanoItalia              460\n",
      "SonoTutelati                328\n",
      "SonoEstremistiReligiosi     165\n",
      "Name: count, dtype: int64\n",
      "\n",
      "cluster_5_nome_marco\n",
      "SonoParassiti              883\n",
      "SonoIncompatibiliConNoi    853\n",
      "SonoSubdoli                635\n",
      "SonoImmorali               570\n",
      "SonoProblema               298\n",
      "Name: count, dtype: int64\n",
      "\n",
      "cluster_5_nome_ale\n",
      "SonoPericolosi                            1337\n",
      "PeggioranoLeNostreCondizioniDiVita         710\n",
      "FannoQuelloCheVoglionoSenzaContribuire     449\n",
      "HannoCulturaDiversaDallaNostra             438\n",
      "X                                          328\n",
      "None/Doubt                                 159\n",
      "PortanoDegrado                             157\n",
      "Name: count, dtype: int64\n"
     ]
    }
   ],
   "source": [
    "print(\"DISTRIBUTION OF CLUSTERS ACROSS CORPUS - 5\")\n",
    "print()\n",
    "print(df[\"cluster_5_nome_marem\"].value_counts())\n",
    "print()\n",
    "print(df[\"cluster_5_nome_marco\"].value_counts())\n",
    "print()\n",
    "print(df[\"cluster_5_nome_ale\"].value_counts())"
   ]
  },
  {
   "cell_type": "code",
   "execution_count": 15,
   "id": "de67931c",
   "metadata": {},
   "outputs": [],
   "source": [
    "distr_5_marem = df_cluster.groupby([\"cluster_5_nome_marem\", \"annotazioni_parsate\"]).size().reset_index(name='count')\n",
    "distr_5_ale = df_cluster.groupby([\"cluster_5_nome_ale\", \"annotazioni_parsate\"]).size().reset_index(name='count')\n",
    "distr_5_marco = df_cluster.groupby([\"cluster_5_nome_marco\", \"annotazioni_parsate\"]).size().reset_index(name='count')\n",
    "\n",
    "distr_5_marem.to_csv(\"./saved_for_analysis/distr_5_marem.csv\", index=False)\n",
    "distr_5_ale.to_csv(\"./saved_for_analysis/distr_5_ale.csv\", index=False)\n",
    "distr_5_marco.to_csv(\"./saved_for_analysis/distr_5_marco.csv\", index=False)"
   ]
  },
  {
   "cell_type": "markdown",
   "id": "15a7a396",
   "metadata": {},
   "source": [
    "## Differences hateful comments vs non hateful comments"
   ]
  },
  {
   "cell_type": "code",
   "execution_count": 93,
   "id": "ed82af0c",
   "metadata": {},
   "outputs": [],
   "source": [
    "df_cluster_en = df_cluster.copy()\n",
    "\n",
    "dict_english_cl = {\n",
    "        \"cluster_5_nome_marco\":{\n",
    "            'SonoParassiti': \"Parasites\", \n",
    "            'SonoSubdoli': \"Subtle\", \n",
    "            'SonoImmorali': \"Immoral\",\n",
    "            'SonoIncompatibiliConNoi': \"Incompatible\", \n",
    "            'SonoProblema': \"Problem\"\n",
    "            }, \n",
    "       \"cluster_5_nome_ale\": {\n",
    "           \"FannoQuelloCheVoglionoSenzaContribuire\": \"Do not contribute\",\n",
    "            \"SonoPericolosi\": \"Dangerous\",\n",
    "            \"PeggioranoLeNostreCondizioniDiVita\": \"Worsen our lives\",\n",
    "            \"HannoCulturaDiversaDallaNostra\": \"Different culture\",\n",
    "            \"PortanoDegrado\": \"Degraded\"\n",
    "            }, \n",
    "       \"cluster_5_nome_marem\": {\n",
    "           \"SonoSfruttatori\": \"Exploiters\",\n",
    "            \"SonoMinaccia\": \"Threat\",\n",
    "            \"RovinanoItalia\": \"Ruin Italy\",\n",
    "            \"SonoTutelati\": \"Protected\",\n",
    "            \"SonoEstremistiReligiosi\": \"Radicalized\"\n",
    "            }\n",
    "            }\n",
    "\n",
    "for col_name, d in dict_english_cl.items():\n",
    "    df_cluster_en.loc[:, col_name] = df_cluster[col_name].map(d)\n",
    "    \n",
    "# print(df_cluster[\"cluster_5_nome_marco\"].value_counts())\n",
    "# print(df_cluster_en[\"cluster_5_nome_marco\"].value_counts())\n",
    "\n",
    "df_cluster_en[\"hs\"] = df_cluster_en[\"hs\"].map({1:\"hs\", 0:\"not hs\"})"
   ]
  },
  {
   "cell_type": "code",
   "execution_count": 94,
   "id": "3e5146af",
   "metadata": {},
   "outputs": [
    {
     "name": "stderr",
     "output_type": "stream",
     "text": [
      "/tmp/ipykernel_6806/1009371118.py:6: UserWarning: FixedFormatter should only be used together with FixedLocator\n",
      "  ax.set_xticklabels(labels)\n"
     ]
    },
    {
     "data": {
      "image/png": "[encoded data removed]",
      "text/plain": [
       "<Figure size 600x600 with 1 Axes>"
      ]
     },
     "metadata": {},
     "output_type": "display_data"
    }
   ],
   "source": [
    "\n",
    "plt.figure(figsize=(6, 6))\n",
    "ax = sns.countplot(data=df_cluster_en, x='cluster_5_nome_marco', hue='hs')\n",
    "\n",
    "# Wrap x-tick labels\n",
    "labels = [textwrap.fill(label.get_text(), width=10) for label in ax.get_xticklabels()]\n",
    "ax.set_xticklabels(labels)\n",
    "\n",
    "plt.title('Annotator_01')\n",
    "plt.xlabel('Cluster')\n",
    "plt.ylabel('Count')\n",
    "plt.legend(title='hs')\n",
    "plt.tight_layout()\n",
    "plt.savefig(\"./saved_for_analysis/hs_a1.png\")\n",
    "plt.show()\n"
   ]
  },
  {
   "cell_type": "code",
   "execution_count": 95,
   "id": "9b4d07fb",
   "metadata": {},
   "outputs": [
    {
     "name": "stderr",
     "output_type": "stream",
     "text": [
      "/tmp/ipykernel_6806/1500245615.py:6: UserWarning: FixedFormatter should only be used together with FixedLocator\n",
      "  ax.set_xticklabels(labels)\n"
     ]
    },
    {
     "data": {
      "image/png": "[encoded data removed]",
      "text/plain": [
       "<Figure size 600x600 with 1 Axes>"
      ]
     },
     "metadata": {},
     "output_type": "display_data"
    }
   ],
   "source": [
    "\n",
    "plt.figure(figsize=(6, 6))\n",
    "ax = sns.countplot(data=df_cluster_en, x='cluster_5_nome_ale', hue='hs')\n",
    "\n",
    "# Wrap x-tick labels\n",
    "labels = [textwrap.fill(label.get_text(), width=10) for label in ax.get_xticklabels()]\n",
    "ax.set_xticklabels(labels)\n",
    "\n",
    "plt.title('Annotator_02')\n",
    "plt.xlabel('Cluster')\n",
    "plt.ylabel('Count')\n",
    "plt.legend(title='hs')\n",
    "plt.tight_layout()\n",
    "plt.savefig(\"./saved_for_analysis/hs_a2.png\")\n",
    "plt.show()\n"
   ]
  },
  {
   "cell_type": "code",
   "execution_count": 106,
   "id": "77f1240d",
   "metadata": {},
   "outputs": [
    {
     "data": {
      "text/plain": [
       "cluster_5_nome_marem  hs    \n",
       "Exploiters            hs        614\n",
       "                      not hs    458\n",
       "Protected             hs        147\n",
       "                      not hs    181\n",
       "Radicalized           hs        124\n",
       "                      not hs     41\n",
       "Ruin Italy            hs        258\n",
       "                      not hs    201\n",
       "Threat                hs        542\n",
       "                      not hs    465\n",
       "dtype: int64"
      ]
     },
     "execution_count": 106,
     "metadata": {},
     "output_type": "execute_result"
    }
   ],
   "source": [
    "df_cluster_en.groupby([\"cluster_5_nome_marem\", \"hs\"]).size()"
   ]
  },
  {
   "cell_type": "code",
   "execution_count": null,
   "id": "9af16992",
   "metadata": {},
   "outputs": [
    {
     "data": {
      "text/plain": [
       "hs\n",
       "hs        1769\n",
       "not hs    1479\n",
       "Name: count, dtype: int64"
      ]
     },
     "execution_count": 109,
     "metadata": {},
     "output_type": "execute_result"
    }
   ],
   "source": [
    "df_cluster_en[\"hs\"].value_counts()"
   ]
  },
  {
   "cell_type": "code",
   "execution_count": 96,
   "id": "665ba10a",
   "metadata": {},
   "outputs": [
    {
     "data": {
      "image/png": "[encoded data removed]",
      "text/plain": [
       "<Figure size 600x600 with 1 Axes>"
      ]
     },
     "metadata": {},
     "output_type": "display_data"
    }
   ],
   "source": [
    "plt.figure(figsize=(6, 6))\n",
    "sns.countplot(data=df_cluster_en, x='cluster_5_nome_marem', hue='hs')\n",
    "\n",
    "plt.title('annotator_05')\n",
    "plt.xlabel('Cluster')\n",
    "plt.ylabel('Count')\n",
    "plt.legend(title='hs')\n",
    "plt.tight_layout()\n",
    "plt.savefig(\"./saved_for_analysis/hs_a5.png\")\n",
    "plt.show()\n"
   ]
  },
  {
   "cell_type": "code",
   "execution_count": 105,
   "id": "4e485684",
   "metadata": {},
   "outputs": [
    {
     "name": "stderr",
     "output_type": "stream",
     "text": [
      "/tmp/ipykernel_6806/3954009508.py:12: UserWarning: FixedFormatter should only be used together with FixedLocator\n",
      "  ax.set_xticklabels(labels, rotation=45, ha='right', fontsize=10)\n",
      "/tmp/ipykernel_6806/3954009508.py:12: UserWarning: FixedFormatter should only be used together with FixedLocator\n",
      "  ax.set_xticklabels(labels, rotation=45, ha='right', fontsize=10)\n",
      "/tmp/ipykernel_6806/3954009508.py:12: UserWarning: FixedFormatter should only be used together with FixedLocator\n",
      "  ax.set_xticklabels(labels, rotation=45, ha='right', fontsize=10)\n"
     ]
    },
    {
     "data": {
      "image/png": "[encoded data removed]",
      "text/plain": [
       "<Figure size 1169x400 with 3 Axes>"
      ]
     },
     "metadata": {},
     "output_type": "display_data"
    }
   ],
   "source": [
    "import matplotlib.pyplot as plt\n",
    "import seaborn as sns\n",
    "import textwrap\n",
    "\n",
    "# A4 landscape: width x height in inches\n",
    "fig, axes = plt.subplots(nrows=1, ncols=3, figsize=(11.69, 4), sharey=True)\n",
    "\n",
    "# Custom function\n",
    "def countplot_wrapped(ax, x_column, title, show_ylabel=False):\n",
    "    sns.countplot(data=df_cluster_en, x=x_column, hue='hs', ax=ax)\n",
    "    labels = [textwrap.fill(label.get_text(), width=10) for label in ax.get_xticklabels()]\n",
    "    ax.set_xticklabels(labels, rotation=45, ha='right', fontsize=10)\n",
    "    ax.set_title(title, fontsize=10)\n",
    "    \n",
    "    if show_ylabel:\n",
    "        ax.set_ylabel('Count', fontsize=10)\n",
    "    else:\n",
    "        ax.set_ylabel('')\n",
    "\n",
    "    ax.set_xlabel('')\n",
    "\n",
    "    # Reduce y-tick label font size\n",
    "    ax.tick_params(axis='y', labelsize=10)\n",
    "\n",
    "# Generate each plot\n",
    "countplot_wrapped(axes[0], 'cluster_5_nome_marco', 'Annotator_01', show_ylabel=True)\n",
    "countplot_wrapped(axes[1], 'cluster_5_nome_ale', 'Annotator_02')\n",
    "countplot_wrapped(axes[2], 'cluster_5_nome_marem', 'Annotator_05')\n",
    "\n",
    "# Shared legend at top\n",
    "handles, labels = axes[0].get_legend_handles_labels()\n",
    "fig.legend(handles, labels, loc='upper center', ncol=len(labels),\n",
    "           bbox_to_anchor=(0.5, 1.05), fontsize=10, title_fontsize=9)\n",
    "for ax in axes:\n",
    "    ax.legend().remove()\n",
    "\n",
    "# Shared x-axis label\n",
    "# fig.text(0.5, 0.02, 'Cluster', ha='center', fontsize=10)\n",
    "\n",
    "# Adjust layout\n",
    "plt.tight_layout(rect=[0, 0.03, 1, 0.95])\n",
    "plt.savefig(\"./saved_for_analysis/hs_all_horizontal_clean.png\", dpi=300, bbox_inches='tight')\n",
    "plt.show()\n"
   ]
  },
  {
   "cell_type": "markdown",
   "id": "c3441fb7",
   "metadata": {},
   "source": [
    "# Experiment analysis"
   ]
  },
  {
   "cell_type": "code",
   "execution_count": 20,
   "id": "9df52e48",
   "metadata": {},
   "outputs": [
    {
     "name": "stdout",
     "output_type": "stream",
     "text": [
      "(2148, 8) (2073, 8) (1999, 8) (2121, 8) (2076, 8)\n"
     ]
    }
   ],
   "source": [
    "run_1 = pd.read_csv(\"./output/parsed_output_1.csv\")\n",
    "run_2 = pd.read_csv(\"./output/parsed_output_2.csv\")\n",
    "run_3 = pd.read_csv(\"./output/parsed_output_3.csv\")\n",
    "run_4 = pd.read_csv(\"./output/parsed_output_4.csv\")\n",
    "run_5 = pd.read_csv(\"./output/parsed_output_5.csv\")\n",
    "\n",
    "print(run_1.shape, run_2.shape, run_3.shape, run_4.shape, run_5.shape)"
   ]
  },
  {
   "cell_type": "code",
   "execution_count": 21,
   "id": "0e5d9a8c",
   "metadata": {},
   "outputs": [],
   "source": [
    "def task_comparison (df1, df2, df3, df4, df5):\n",
    "    df1_ = df1.rename(columns={\"parsed_output\":\"parsed_run_1\", \"label\": \"label_run_1\"})\n",
    "    df2_ = df2.rename(columns={\"parsed_output\":\"parsed_run_2\", \"label\": \"label_run_2\"})\n",
    "    df3_ = df3.rename(columns={\"parsed_output\":\"parsed_run_3\", \"label\": \"label_run_3\"})\n",
    "    df4_ = df4.rename(columns={\"parsed_output\":\"parsed_run_4\", \"label\": \"label_run_4\"})\n",
    "    df5_ = df5.rename(columns={\"parsed_output\":\"parsed_run_5\", \"label\": \"label_run_5\"})\n",
    "    \n",
    "    df_comparison_ = df1_[['id', 'cleaned_cl_marem', 'cleaned_cl_marco','cleaned_cl_ale', \"parsed_run_1\", 'label_run_1']]\n",
    "    \n",
    "    df_comparison_ = df_comparison_.merge(df2_[['id', 'cleaned_cl_marem', 'cleaned_cl_marco','cleaned_cl_ale', \"parsed_run_2\", \"label_run_2\"]], on=['id', 'cleaned_cl_marem', 'cleaned_cl_marco','cleaned_cl_ale'])\n",
    "    df_comparison_ = df_comparison_.merge(df3_[['id', 'cleaned_cl_marem', 'cleaned_cl_marco','cleaned_cl_ale', \"parsed_run_3\", \"label_run_3\"]], on=['id', 'cleaned_cl_marem', 'cleaned_cl_marco','cleaned_cl_ale'])\n",
    "    df_comparison_ = df_comparison_.merge(df4_[['id', 'cleaned_cl_marem', 'cleaned_cl_marco','cleaned_cl_ale', \"parsed_run_4\", \"label_run_4\"]], on=['id', 'cleaned_cl_marem', 'cleaned_cl_marco','cleaned_cl_ale'])\n",
    "    df_comparison = df_comparison_.merge(df5_[['id', 'cleaned_cl_marem', 'cleaned_cl_marco','cleaned_cl_ale', \"parsed_run_5\", \"label_run_5\"]], on=['id', 'cleaned_cl_marem', 'cleaned_cl_marco','cleaned_cl_ale'])\n",
    "\n",
    "    print(df_comparison.shape)\n",
    "\n",
    "    return df_comparison\n",
    "\n",
    "\n",
    "def task_agreements(df):\n",
    "    # Check if all tasks agree on the label\n",
    "    task_cols = [\"label_run_1\", \"label_run_2\", \"label_run_3\", \"label_run_4\", \"label_run_5\"]\n",
    "    df[\"All_agree\"] = df[task_cols].eq(df[\"label_run_1\"], axis=0).all(axis=1)\n",
    "\n",
    "    print(\"Result explanation (All_agree):\")\n",
    "    print(\"# True  - All tasks gave the same label\")\n",
    "    print(\"# False - At least one task gave a different label\\n\")\n",
    "    print(df[\"All_agree\"].value_counts())\n",
    "\n",
    "    print(\"\\n\\n\")\n",
    "\n",
    "    df_agreed = df.copy()\n",
    "    df_agreed = df_agreed[df_agreed[\"All_agree\"] == True]"
   ]
  },
  {
   "cell_type": "code",
   "execution_count": 22,
   "id": "7ccb551b",
   "metadata": {},
   "outputs": [
    {
     "name": "stdout",
     "output_type": "stream",
     "text": [
      "(1781, 14)\n"
     ]
    }
   ],
   "source": [
    "df_runs_all = task_comparison(run_1, run_2, run_3, run_4, run_5)"
   ]
  },
  {
   "cell_type": "code",
   "execution_count": 23,
   "id": "89f2e172",
   "metadata": {},
   "outputs": [
    {
     "name": "stdout",
     "output_type": "stream",
     "text": [
      "Result explanation (All_agree):\n",
      "# True  - All tasks gave the same label\n",
      "# False - At least one task gave a different label\n",
      "\n",
      "All_agree\n",
      "False    1363\n",
      "True      418\n",
      "Name: count, dtype: int64\n",
      "\n",
      "\n",
      "\n"
     ]
    }
   ],
   "source": [
    "task_agreements(df_runs_all)"
   ]
  },
  {
   "cell_type": "code",
   "execution_count": 24,
   "id": "76805862",
   "metadata": {},
   "outputs": [],
   "source": [
    "df_agreement = df_runs_all[df_runs_all[\"All_agree\"] == True]\n",
    "df_disagreement = df_runs_all[df_runs_all[\"All_agree\"] == False]"
   ]
  },
  {
   "cell_type": "code",
   "execution_count": 25,
   "id": "a342782f",
   "metadata": {},
   "outputs": [
    {
     "data": {
      "text/plain": [
       "label_run_1\n",
       "marem    326\n",
       "ale       86\n",
       "marco      6\n",
       "Name: count, dtype: int64"
      ]
     },
     "execution_count": 25,
     "metadata": {},
     "output_type": "execute_result"
    }
   ],
   "source": [
    "df_agreement[\"label_run_1\"].value_counts()"
   ]
  },
  {
   "cell_type": "code",
   "execution_count": 26,
   "id": "39c0f3a8",
   "metadata": {},
   "outputs": [
    {
     "data": {
      "text/plain": [
       "parsed_run_1\n",
       "Sono degli sfruttatori                    202\n",
       "Sono tutelati                              85\n",
       "Sono pericolosi                            75\n",
       "Sono una minaccia                          27\n",
       "Sono degli estremisti religiosi            12\n",
       "Hanno una cultura diversa dalla nostra     11\n",
       "Sono subdoli                                3\n",
       "Sono incompatibili con noi                  2\n",
       "Sono un problema                            1\n",
       "Name: count, dtype: int64"
      ]
     },
     "execution_count": 26,
     "metadata": {},
     "output_type": "execute_result"
    }
   ],
   "source": [
    "df_agreement[\"parsed_run_1\"].value_counts()"
   ]
  },
  {
   "cell_type": "code",
   "execution_count": 31,
   "id": "0e6e22d4",
   "metadata": {},
   "outputs": [
    {
     "name": "stdout",
     "output_type": "stream",
     "text": [
      "label_run_1\n",
      "marco    797\n",
      "marem    414\n",
      "ale      152\n",
      "Name: count, dtype: int64\n",
      "\n",
      "label_run_2\n",
      "marem    822\n",
      "ale      500\n",
      "marco     41\n",
      "Name: count, dtype: int64\n",
      "\n",
      "label_run_3\n",
      "marco    780\n",
      "marem    461\n",
      "ale      122\n",
      "Name: count, dtype: int64\n",
      "\n",
      "label_run_4\n",
      "ale      866\n",
      "marem    352\n",
      "marco    145\n",
      "Name: count, dtype: int64\n",
      "\n",
      "label_run_5\n",
      "marem    855\n",
      "ale      449\n",
      "marco     59\n",
      "Name: count, dtype: int64\n",
      "\n"
     ]
    }
   ],
   "source": [
    "list_runs = [\"label_run_1\", \"label_run_2\", \"label_run_3\", \"label_run_4\", \"label_run_5\"]\n",
    "\n",
    "for run in list_runs:\n",
    "    print(df_disagreement[run].value_counts())\n",
    "    print()"
   ]
  }
 ],
 "metadata": {
  "kernelspec": {
   "display_name": "3.11.10",
   "language": "python",
   "name": "python3"
  },
  "language_info": {
   "codemirror_mode": {
    "name": "ipython",
    "version": 3
   },
   "file_extension": ".py",
   "mimetype": "text/x-python",
   "name": "python",
   "nbconvert_exporter": "python",
   "pygments_lexer": "ipython3",
   "version": "3.11.10"
  }
 },
 "nbformat": 4,
 "nbformat_minor": 5
}
